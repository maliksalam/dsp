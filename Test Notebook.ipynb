{
 "cells": [
  {
   "cell_type": "code",
   "execution_count": 1,
   "metadata": {},
   "outputs": [
    {
     "name": "stdout",
     "output_type": "stream",
     "text": [
      "/Users/maliksalam/Google Drive/Data Science/Metis/prework/dsp\r\n"
     ]
    }
   ],
   "source": [
    "!pwd"
   ]
  },
  {
   "cell_type": "code",
   "execution_count": 2,
   "metadata": {},
   "outputs": [
    {
     "name": "stdout",
     "output_type": "stream",
     "text": [
      "Python 3.6.3 :: Anaconda, Inc.\r\n"
     ]
    }
   ],
   "source": [
    "!python --version"
   ]
  },
  {
   "cell_type": "code",
   "execution_count": 3,
   "metadata": {},
   "outputs": [
    {
     "name": "stdout",
     "output_type": "stream",
     "text": [
      "Hello World\n"
     ]
    }
   ],
   "source": [
    "print(\"Hello World\")"
   ]
  },
  {
   "cell_type": "markdown",
   "metadata": {},
   "source": [
    "# THIS IS A TITLE"
   ]
  },
  {
   "cell_type": "code",
   "execution_count": 6,
   "metadata": {},
   "outputs": [
    {
     "name": "stdout",
     "output_type": "stream",
     "text": [
      "     Weekday  Count\n",
      "0     Friday     13\n",
      "2   Saturday     10\n",
      "3     Sunday      8\n",
      "5    Tuesday      7\n",
      "1     Monday      6\n",
      "4   Thursday      6\n",
      "6  Wednesday      6\n"
     ]
    },
    {
     "data": {
      "image/png": "[encoded data removed]",
      "text/plain": [
       "<matplotlib.figure.Figure at 0x10c422438>"
      ]
     },
     "metadata": {},
     "output_type": "display_data"
    }
   ],
   "source": [
    "%matplotlib inline\n",
    "import matplotlib.pyplot as plt\n",
    "import json\n",
    "import pandas as pd\n",
    "# Open the .txt file and flaten the json into a DataFrame\n",
    "commits_json = open('resources/d3_commits.txt')\n",
    "commits_py = json.loads(commits_json.read())\n",
    "commits_df = pd.io.json.json_normalize(commits_py)\n",
    "commits_json.close()\n",
    "\n",
    "# Convert the commit.author.date column to datetime objects with time stripped out\n",
    "commits_df['Clean Date'] = commits_df['commit.author.date'].map(lambda x: x[:-10])\n",
    "commits_df['Clean Date'] = pd.to_datetime(commits_df['Clean Date'])\n",
    "\n",
    "# Add Weekday and Weekday # column\n",
    "commits_df['Weekday'] = commits_df['Clean Date'].dt.weekday_name\n",
    "commits_df['Weekday #'] = commits_df['Clean Date'].dt.weekday\n",
    "\n",
    "# Group the DataFrame using the weekday column, sorting on Clean Date counts\n",
    "commits_grouped = commits_df.groupby(['Weekday'])['Clean Date'].count().reset_index(name = 'Count')\n",
    "commits_grouped = commits_grouped.sort_values('Count', ascending = False)\n",
    "\n",
    "print(commits_grouped)\n",
    "# In the last year, most commits were done on Fridays (closely followed by Saturday and Sunday)\n",
    "\n",
    "\n",
    "# Create a commits count sorted by day of the weel in order\n",
    "commits_sorted = commits_df.groupby(['Weekday #'])['Clean Date'].count().reset_index(name = 'Count')\n",
    "\n",
    "# Graph number of commits per day of the week.\n",
    "plt.figure(1)\n",
    "plt.bar(commits_sorted['Weekday #'], commits_sorted['Count'])\n",
    "x_axis = ['Monday', 'Tuesday', 'Wednesday', 'Thursday', 'Friday', 'Saturday', 'Sunday']\n",
    "plt.xticks(commits_sorted['Weekday #'], x_axis, rotation = 45)\n",
    "plt.ylabel('Commit Counts')\n",
    "plt.title('d3 Repo Commits per Day of the Week')\n",
    "plt.subplots_adjust(bottom = 0.18)\n",
    "plt.show()"
   ]
  },
  {
   "cell_type": "code",
   "execution_count": 7,
   "metadata": {},
   "outputs": [
    {
     "name": "stdout",
     "output_type": "stream",
     "text": [
      "\n",
      "    In Work Hours  Count\n",
      "0          False     46\n",
      "1           True     10\n"
     ]
    },
    {
     "data": {
      "image/png": "[encoded data removed]",
      "text/plain": [
       "<matplotlib.figure.Figure at 0x10c4224e0>"
      ]
     },
     "metadata": {},
     "output_type": "display_data"
    }
   ],
   "source": [
    "# This looks like this could be a side-project that is mainly worked during the weekend\n",
    "# Following up on that, let's see if people mainly commit outside of regular work hours\n",
    "\n",
    "# Create a new Hour column\n",
    "commits_df['Hour'] = pd.to_datetime(commits_df['commit.author.date']).dt.hour\n",
    "\n",
    "# Evaluate whether Hour falls between 9 and 17 (9 am and 5 pm) on a week day\n",
    "commits_df['In Work Hours'] = (commits_df['Hour'].isin(range(9,17))) & (commits_df['Weekday #'] < 6)\n",
    "\n",
    "# Group the DataFrame using whether the commit was done during work hours\n",
    "commits_hours = commits_df.groupby(['In Work Hours'])['Hour'].count().reset_index(name = 'Count')\n",
    "\n",
    "print(\"\\n\", commits_hours)\n",
    "# Indeed, it looks like this repo is mainly maintaned outside of regular work hours\n",
    "\n",
    "# Graph the output\n",
    "plt.figure(2)\n",
    "plt.bar(commits_hours['In Work Hours'], commits_hours['Count'])\n",
    "x_axis = ['Outside Work Hours', 'During Work Hours']\n",
    "plt.xticks(commits_hours['In Work Hours'], x_axis,)\n",
    "plt.ylabel('Commit Counts')\n",
    "plt.title('d3 Repo Commits and The Work Day')\n",
    "plt.show()"
   ]
  },
  {
   "cell_type": "markdown",
   "metadata": {},
   "source": [
    "*I wish I knew how to use jupyter before the application challenges. Would have been helpful.*"
   ]
  },
  {
   "cell_type": "code",
   "execution_count": null,
   "metadata": {
    "collapsed": true
   },
   "outputs": [],
   "source": []
  }
 ],
 "metadata": {
  "kernelspec": {
   "display_name": "Python 3",
   "language": "python",
   "name": "python3"
  },
  "language_info": {
   "codemirror_mode": {
    "name": "ipython",
    "version": 3
   },
   "file_extension": ".py",
   "mimetype": "text/x-python",
   "name": "python",
   "nbconvert_exporter": "python",
   "pygments_lexer": "ipython3",
   "version": "3.6.3"
  }
 },
 "nbformat": 4,
 "nbformat_minor": 2
}
